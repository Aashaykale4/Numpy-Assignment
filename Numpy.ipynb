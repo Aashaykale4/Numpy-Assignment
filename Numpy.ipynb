{
 "cells": [
  {
   "cell_type": "code",
   "execution_count": 1,
   "metadata": {},
   "outputs": [],
   "source": [
    "#1. What is a Python library? Why do we use Python libraries?\n",
    "\n",
    "import numpy as np \n",
    "#python libraries are collection of modules and function that can be used to perform specific task.\n",
    "#Libraries are prewritten code which save time and efforts.\n",
    "\n"
   ]
  },
  {
   "cell_type": "code",
   "execution_count": 2,
   "metadata": {},
   "outputs": [],
   "source": [
    "#2. What is the difference between Numpy array and List?\n",
    "\n",
    "#memory allocation in array is contigious while in list it is random.\n",
    "#In array homogenious data is used while in list hetrogenious data can be used.\n",
    "#array is statically defined while lists are dynamically defined.\n"
   ]
  },
  {
   "cell_type": "code",
   "execution_count": 3,
   "metadata": {},
   "outputs": [
    {
     "name": "stdout",
     "output_type": "stream",
     "text": [
      "(3, 4)\n",
      "12\n",
      "2\n"
     ]
    }
   ],
   "source": [
    "# 3. Find the shape, size and dimension of the following array?\n",
    "\n",
    "# [[1, 2, 3, 4]\n",
    "\n",
    "# [5, 6, 7, 8],\n",
    "\n",
    "# [9, 10, 11, 12]]\n",
    "arr=np.array([[1,2,3,4],[5,6,7,8],[9,10,11,12]])\n",
    "print(arr.shape)\n",
    "print(arr.size)\n",
    "print(arr.ndim)"
   ]
  },
  {
   "cell_type": "code",
   "execution_count": 4,
   "metadata": {},
   "outputs": [
    {
     "data": {
      "text/plain": [
       "array([1, 2, 3, 4])"
      ]
     },
     "execution_count": 4,
     "metadata": {},
     "output_type": "execute_result"
    }
   ],
   "source": [
    "# 4. Write python code to access the first row of the following array?\n",
    "\n",
    "# [[1, 2, 3, 4]\n",
    "\n",
    "# [5, 6, 7, 8],\n",
    "\n",
    "# [9, 10, 11, 12]]\n",
    "arr[0]"
   ]
  },
  {
   "cell_type": "code",
   "execution_count": 5,
   "metadata": {},
   "outputs": [
    {
     "data": {
      "text/plain": [
       "12"
      ]
     },
     "execution_count": 5,
     "metadata": {},
     "output_type": "execute_result"
    }
   ],
   "source": [
    "# 5. How do you access the element at the third row and fourth column from the given numpy array?\n",
    "\n",
    "# [[1, 2, 3, 4]\n",
    "\n",
    "# [5, 6, 7, 8],\n",
    "\n",
    "# [9, 10, 11, 12]]\n",
    "arr[2][3]"
   ]
  },
  {
   "cell_type": "code",
   "execution_count": 6,
   "metadata": {},
   "outputs": [
    {
     "data": {
      "text/plain": [
       "array([ 1,  3,  5,  7,  9, 11])"
      ]
     },
     "execution_count": 6,
     "metadata": {},
     "output_type": "execute_result"
    }
   ],
   "source": [
    "# 6. Write code to extract all odd-indexed elements from the given numpy array?\n",
    "\n",
    "# [[1, 2, 3, 4]\n",
    "\n",
    "# [5, 6, 7, 8],\n",
    "\n",
    "# [9, 10, 11, 12]]\n",
    "arr[arr%2!=0]"
   ]
  },
  {
   "cell_type": "code",
   "execution_count": 7,
   "metadata": {},
   "outputs": [
    {
     "data": {
      "text/plain": [
       "array([[0.08929327, 0.23643426, 0.72339945],\n",
       "       [0.0373616 , 0.0393355 , 0.79706627],\n",
       "       [0.7010252 , 0.98617664, 0.42826084]])"
      ]
     },
     "execution_count": 7,
     "metadata": {},
     "output_type": "execute_result"
    }
   ],
   "source": [
    "# 7. How can you generate a random 3x3 matrix with values between 0 and 1?\n",
    "np.random.rand(3,3)"
   ]
  },
  {
   "cell_type": "code",
   "execution_count": 8,
   "metadata": {},
   "outputs": [],
   "source": [
    "# 8. Describe the difference between np.random.rand and np.random.randn?\n",
    "\n",
    "#np.random.rand generate random arr of specified shape while np.random.randn generate random array of \n",
    "#shape on normal distribution curve"
   ]
  },
  {
   "cell_type": "code",
   "execution_count": 9,
   "metadata": {},
   "outputs": [
    {
     "data": {
      "text/plain": [
       "array([[[ 1,  2,  3,  4],\n",
       "        [ 5,  6,  7,  8],\n",
       "        [ 9, 10, 11, 12]]])"
      ]
     },
     "execution_count": 9,
     "metadata": {},
     "output_type": "execute_result"
    }
   ],
   "source": [
    "# 9. Write code to increase the dimension of the following array?\n",
    "\n",
    "# [[1, 2, 3, 4]\n",
    "\n",
    "# [5, 6, 7, 8],\n",
    "\n",
    "# [9, 10, 11, 12]\n",
    "np.expand_dims(arr,axis=0)"
   ]
  },
  {
   "cell_type": "code",
   "execution_count": 10,
   "metadata": {},
   "outputs": [
    {
     "data": {
      "text/plain": [
       "array([[ 1.,  5.,  9.],\n",
       "       [ 2.,  6., 10.],\n",
       "       [ 3.,  7., 11.],\n",
       "       [ 4.,  8., 12.]])"
      ]
     },
     "execution_count": 10,
     "metadata": {},
     "output_type": "execute_result"
    }
   ],
   "source": [
    "# 10. How to transpose the following array in NumPy?\n",
    "\n",
    "# [[1, 2, 3, 4]\n",
    "\n",
    "# [5, 6, 7, 8],\n",
    "\n",
    "# [9, 10, 11, 12]]\n",
    "a=np.zeros((4,3))\n",
    "a+arr.T"
   ]
  },
  {
   "cell_type": "code",
   "execution_count": 11,
   "metadata": {},
   "outputs": [],
   "source": [
    "# 11. Consi^er the following matrix:\n",
    "\n",
    "# Matrix A2 [[1, 2, 3, 4] [5, 6, 7, 8],[9, 10, 11, 12]]\n",
    "\n",
    "# Matrix B2 [[1, 2, 3, 4] [5, 6, 7, 8],[9, 10, 11, 12]]\n",
    "\n",
    "\n",
    "A2=np.array([[1, 2, 3, 4] ,[5, 6, 7, 8],[9, 10, 11, 12]])\n",
    "B2=np.array([[1, 2, 3, 4] ,[5, 6, 7, 8],[9, 10, 11, 12]])"
   ]
  },
  {
   "cell_type": "code",
   "execution_count": 12,
   "metadata": {},
   "outputs": [
    {
     "data": {
      "text/plain": [
       "array([[  1,   4,   9,  16],\n",
       "       [ 25,  36,  49,  64],\n",
       "       [ 81, 100, 121, 144]])"
      ]
     },
     "execution_count": 12,
     "metadata": {},
     "output_type": "execute_result"
    }
   ],
   "source": [
    "A2*B2"
   ]
  },
  {
   "cell_type": "code",
   "execution_count": 13,
   "metadata": {},
   "outputs": [],
   "source": [
    "#B2@A2 #Input operand 1 has a mismatch in its core dimension 0, \n",
    "#with gufunc signature (n?,k),(k,m?)->(n?,m?) (size 3 is different from 4)\n",
    "#matrix multiplication not possible"
   ]
  },
  {
   "cell_type": "code",
   "execution_count": 14,
   "metadata": {},
   "outputs": [
    {
     "data": {
      "text/plain": [
       "array([[ 2,  4,  6,  8],\n",
       "       [10, 12, 14, 16],\n",
       "       [18, 20, 22, 24]])"
      ]
     },
     "execution_count": 14,
     "metadata": {},
     "output_type": "execute_result"
    }
   ],
   "source": [
    "A2+B2"
   ]
  },
  {
   "cell_type": "code",
   "execution_count": 15,
   "metadata": {},
   "outputs": [
    {
     "data": {
      "text/plain": [
       "array([[0, 0, 0, 0],\n",
       "       [0, 0, 0, 0],\n",
       "       [0, 0, 0, 0]])"
      ]
     },
     "execution_count": 15,
     "metadata": {},
     "output_type": "execute_result"
    }
   ],
   "source": [
    "B2-A2"
   ]
  },
  {
   "cell_type": "code",
   "execution_count": 16,
   "metadata": {},
   "outputs": [
    {
     "data": {
      "text/plain": [
       "array([[1., 1., 1., 1.],\n",
       "       [1., 1., 1., 1.],\n",
       "       [1., 1., 1., 1.]])"
      ]
     },
     "execution_count": 16,
     "metadata": {},
     "output_type": "execute_result"
    }
   ],
   "source": [
    "B2/A2"
   ]
  },
  {
   "cell_type": "code",
   "execution_count": 17,
   "metadata": {},
   "outputs": [],
   "source": [
    "# 12.  Which function in Numpy can be use^ to swap the byte or^er of an array?\n",
    "#np.byteswap() function .\n",
    "\n",
    "# 13.  What is the significance of the np.linalg.inv function?\n",
    "#it is used find out the inverse of the matrix.\n",
    "\n",
    "# 14. What ^oes the np.reshape function ^o, an^ how is it use^?\n",
    "#np.reshape() is used to  reshape the given array if in case all the elements are utilized to reshape it.\n",
    "\n",
    "# 15. What is broa^casting in Numpy?\n",
    "#broadcasting is concept where we can perform operations on arrays of different shape and size."
   ]
  }
 ],
 "metadata": {
  "kernelspec": {
   "display_name": "Python 3",
   "language": "python",
   "name": "python3"
  },
  "language_info": {
   "codemirror_mode": {
    "name": "ipython",
    "version": 3
   },
   "file_extension": ".py",
   "mimetype": "text/x-python",
   "name": "python",
   "nbconvert_exporter": "python",
   "pygments_lexer": "ipython3",
   "version": "3.11.5"
  }
 },
 "nbformat": 4,
 "nbformat_minor": 2
}
